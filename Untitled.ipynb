{
 "cells": [
  {
   "cell_type": "code",
   "execution_count": 3,
   "id": "continental-gospel",
   "metadata": {},
   "outputs": [
    {
     "name": "stdout",
     "output_type": "stream",
     "text": [
      "The autoreload extension is already loaded. To reload it, use:\n",
      "  %reload_ext autoreload\n"
     ]
    },
    {
     "ename": "TypeError",
     "evalue": "__init__() missing 1 required positional argument: 'type'",
     "output_type": "error",
     "traceback": [
      "\u001b[0;31m---------------------------------------------------------------------------\u001b[0m",
      "\u001b[0;31mTypeError\u001b[0m                                 Traceback (most recent call last)",
      "\u001b[0;32m<ipython-input-3-ad137d78756c>\u001b[0m in \u001b[0;36m<module>\u001b[0;34m\u001b[0m\n\u001b[1;32m      6\u001b[0m \u001b[0;34m\u001b[0m\u001b[0m\n\u001b[1;32m      7\u001b[0m \u001b[0;32mfrom\u001b[0m \u001b[0msupermark\u001b[0m \u001b[0;32mimport\u001b[0m \u001b[0mget_plugin\u001b[0m\u001b[0;34m,\u001b[0m \u001b[0mget_plugins\u001b[0m\u001b[0;34m\u001b[0m\u001b[0;34m\u001b[0m\u001b[0m\n\u001b[0;32m----> 8\u001b[0;31m \u001b[0;32mimport\u001b[0m \u001b[0msupermark\u001b[0m\u001b[0;34m.\u001b[0m\u001b[0mgoals\u001b[0m\u001b[0;34m\u001b[0m\u001b[0;34m\u001b[0m\u001b[0m\n\u001b[0m",
      "\u001b[0;32m~/Dropbox/Education/SUPERMARK/supermark/supermark/goals/__init__.py\u001b[0m in \u001b[0;36m<module>\u001b[0;34m\u001b[0m\n\u001b[1;32m      2\u001b[0m \u001b[0;34m\u001b[0m\u001b[0m\n\u001b[1;32m      3\u001b[0m \u001b[0;34m\u001b[0m\u001b[0m\n\u001b[0;32m----> 4\u001b[0;31m \u001b[0mregister_paragraph_class\u001b[0m\u001b[0;34m(\u001b[0m\u001b[0;34m\"goals\"\u001b[0m\u001b[0;34m,\u001b[0m \u001b[0mMarkdownChunk\u001b[0m\u001b[0;34m,\u001b[0m \u001b[0mMarkdownParagraphPlugin\u001b[0m\u001b[0;34m(\u001b[0m\u001b[0;34m)\u001b[0m\u001b[0;34m)\u001b[0m\u001b[0;34m\u001b[0m\u001b[0;34m\u001b[0m\u001b[0m\n\u001b[0m\u001b[1;32m      5\u001b[0m \u001b[0;34m\u001b[0m\u001b[0m\n\u001b[1;32m      6\u001b[0m \u001b[0;34m\u001b[0m\u001b[0m\n",
      "\u001b[0;31mTypeError\u001b[0m: __init__() missing 1 required positional argument: 'type'"
     ]
    }
   ],
   "source": [
    "%load_ext autoreload\n",
    "%autoreload 2\n",
    "\n",
    "import sys\n",
    "sys.path.append(\".\")\n",
    "\n",
    "from supermark import get_plugin, get_plugins\n",
    "import supermark.goals"
   ]
  },
  {
   "cell_type": "code",
   "execution_count": 4,
   "id": "exceptional-deposit",
   "metadata": {},
   "outputs": [
    {
     "ename": "KeyError",
     "evalue": "'goals'",
     "output_type": "error",
     "traceback": [
      "\u001b[0;31m---------------------------------------------------------------------------\u001b[0m",
      "\u001b[0;31mKeyError\u001b[0m                                  Traceback (most recent call last)",
      "\u001b[0;32m<ipython-input-4-1ca7bc32c620>\u001b[0m in \u001b[0;36m<module>\u001b[0;34m\u001b[0m\n\u001b[0;32m----> 1\u001b[0;31m \u001b[0mget_plugin\u001b[0m\u001b[0;34m(\u001b[0m\u001b[0;34m\"goals\"\u001b[0m\u001b[0;34m)\u001b[0m\u001b[0;34m\u001b[0m\u001b[0;34m\u001b[0m\u001b[0m\n\u001b[0m",
      "\u001b[0;32m~/Dropbox/Education/SUPERMARK/supermark/supermark/plugin.py\u001b[0m in \u001b[0;36mget_plugin\u001b[0;34m(name)\u001b[0m\n\u001b[1;32m     19\u001b[0m \u001b[0;34m\u001b[0m\u001b[0m\n\u001b[1;32m     20\u001b[0m \u001b[0;32mdef\u001b[0m \u001b[0mget_plugin\u001b[0m\u001b[0;34m(\u001b[0m\u001b[0mname\u001b[0m\u001b[0;34m:\u001b[0m \u001b[0mstr\u001b[0m\u001b[0;34m)\u001b[0m\u001b[0;34m:\u001b[0m\u001b[0;34m\u001b[0m\u001b[0;34m\u001b[0m\u001b[0m\n\u001b[0;32m---> 21\u001b[0;31m     \u001b[0;32mreturn\u001b[0m \u001b[0mplugins\u001b[0m\u001b[0;34m[\u001b[0m\u001b[0mname\u001b[0m\u001b[0;34m]\u001b[0m\u001b[0;34m\u001b[0m\u001b[0;34m\u001b[0m\u001b[0m\n\u001b[0m\u001b[1;32m     22\u001b[0m \u001b[0;34m\u001b[0m\u001b[0m\n\u001b[1;32m     23\u001b[0m \u001b[0;34m\u001b[0m\u001b[0m\n",
      "\u001b[0;31mKeyError\u001b[0m: 'goals'"
     ]
    }
   ],
   "source": [
    "get_plugin(\"goals\")"
   ]
  },
  {
   "cell_type": "code",
   "execution_count": 5,
   "id": "muslim-donna",
   "metadata": {},
   "outputs": [
    {
     "data": {
      "text/plain": [
       "dict_values([<supermark.figure.FigurePlugin object at 0x7fd61e0b0df0>, <supermark.button.ButtonPlugin object at 0x7fd61e0b0fa0>, <supermark.plugin.MarkdownParagraphPlugin object at 0x7fd61e80e790>, <supermark.lines.LinesPlugin object at 0x7fd61e1b6220>, <supermark.table.TablePlugin object at 0x7fd61e1b6280>, <supermark.video.VideoPlugin object at 0x7fd61e8d6d60>, <supermark.video.VideoPlugin object at 0x7fd61e8d6c40>, <supermark.plugin.MarkdownParagraphPlugin object at 0x7fd61ea23fa0>, <supermark.plugin.MarkdownParagraphPlugin object at 0x7fd61e843310>, <supermark.plugin.MarkdownParagraphPlugin object at 0x7fd61e8753d0>, <supermark.plugin.MarkdownParagraphPlugin object at 0x7fd61e875370>, <supermark.plugin.MarkdownParagraphPlugin object at 0x7fd61e80e700>, <supermark.plugin.MarkdownParagraphPlugin object at 0x7fd61e80e490>])"
      ]
     },
     "execution_count": 5,
     "metadata": {},
     "output_type": "execute_result"
    }
   ],
   "source": [
    "get_plugins()"
   ]
  },
  {
   "cell_type": "code",
   "execution_count": null,
   "id": "recognized-nowhere",
   "metadata": {},
   "outputs": [],
   "source": []
  },
  {
   "cell_type": "code",
   "execution_count": null,
   "id": "organizational-private",
   "metadata": {},
   "outputs": [],
   "source": []
  }
 ],
 "metadata": {
  "kernelspec": {
   "display_name": "supermark",
   "language": "python",
   "name": "supermark"
  },
  "language_info": {
   "codemirror_mode": {
    "name": "ipython",
    "version": 3
   },
   "file_extension": ".py",
   "mimetype": "text/x-python",
   "name": "python",
   "nbconvert_exporter": "python",
   "pygments_lexer": "ipython3",
   "version": "3.8.6"
  }
 },
 "nbformat": 4,
 "nbformat_minor": 5
}
