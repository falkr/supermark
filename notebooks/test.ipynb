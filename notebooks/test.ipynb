{
 "cells": [
  {
   "cell_type": "code",
   "execution_count": 1,
   "metadata": {},
   "outputs": [],
   "source": [
    "%load_ext autoreload\n",
    "%autoreload 2"
   ]
  },
  {
   "cell_type": "code",
   "execution_count": 2,
   "metadata": {},
   "outputs": [],
   "source": [
    "import sys\n",
    "sys.path.insert(0, \"../\")\n",
    "#sys.path.append(\"../supermark/\")\n",
    "from supermark import Core"
   ]
  },
  {
   "cell_type": "code",
   "execution_count": 3,
   "metadata": {},
   "outputs": [],
   "source": [
    "core = Core()"
   ]
  },
  {
   "cell_type": "code",
   "execution_count": 4,
   "metadata": {},
   "outputs": [
    {
     "data": {
      "text/html": [
       "<pre style=\"white-space:pre;overflow-x:auto;line-height:normal;font-family:Menlo,'DejaVu Sans Mono',consolas,'Courier New',monospace\">Supermark Extensions                                                                         \n",
       "├── yaml                                                                                     \n",
       "│   ├── Extension at /Users/kraemer/Dropbox/Education/SUPERMARK/supermark/notebooks/../superm\n",
       "│   │   ark/extensions/video                                                                 \n",
       "│   ├── Extension at /Users/kraemer/Dropbox/Education/SUPERMARK/supermark/notebooks/../superm\n",
       "│   │   ark/extensions/video                                                                 \n",
       "│   ├── Extension at /Users/kraemer/Dropbox/Education/SUPERMARK/supermark/notebooks/../superm\n",
       "│   │   ark/extensions/figure                                                                \n",
       "│   ├── Extension at /Users/kraemer/Dropbox/Education/SUPERMARK/supermark/notebooks/../superm\n",
       "│   │   ark/extensions/button                                                                \n",
       "│   ├── Extension at /Users/kraemer/Dropbox/Education/SUPERMARK/supermark/notebooks/../superm\n",
       "│   │   ark/extensions/table                                                                 \n",
       "│   ├── Extension at /Users/kraemer/Dropbox/Education/SUPERMARK/supermark/notebooks/../superm\n",
       "│   │   ark/extensions/lines                                                                 \n",
       "│   ├── Extension at /Users/kraemer/Dropbox/Education/SUPERMARK/supermark/notebooks/../superm\n",
       "│   │   ark/extensions/hints                                                                 \n",
       "│   └── Extension at /Users/kraemer/Dropbox/Education/SUPERMARK/supermark/notebooks/../superm\n",
       "│       ark/extensions/hints                                                                 \n",
       "├── paragraph                                                                                \n",
       "│   ├── Extension at /Users/kraemer/Dropbox/Education/SUPERMARK/supermark/notebooks/../superm\n",
       "│   │   ark/extensions/tree                                                                  \n",
       "│   ├── Extension at /Users/kraemer/Dropbox/Education/SUPERMARK/supermark/notebooks/../superm\n",
       "│   │   ark/extensions/goals                                                                 \n",
       "│   ├── Extension at /Users/kraemer/Dropbox/Education/SUPERMARK/supermark/notebooks/../superm\n",
       "│   │   ark/extensions/rat                                                                   \n",
       "│   ├── Extension at /Users/kraemer/Dropbox/Education/SUPERMARK/supermark/notebooks/../superm\n",
       "│   │   ark/extensions/warning                                                               \n",
       "│   ├── Extension at /Users/kraemer/Dropbox/Education/SUPERMARK/supermark/notebooks/../superm\n",
       "│   │   ark/extensions/warning                                                               \n",
       "│   ├── Extension at /Users/kraemer/Dropbox/Education/SUPERMARK/supermark/notebooks/../superm\n",
       "│   │   ark/extensions/steps                                                                 \n",
       "│   ├── Extension at /Users/kraemer/Dropbox/Education/SUPERMARK/supermark/notebooks/../superm\n",
       "│   │   ark/extensions/task                                                                  \n",
       "│   ├── Extension at /Users/kraemer/Dropbox/Education/SUPERMARK/supermark/notebooks/../superm\n",
       "│   │   ark/extensions/tips                                                                  \n",
       "│   ├── Extension at /Users/kraemer/Dropbox/Education/SUPERMARK/supermark/notebooks/../superm\n",
       "│   │   ark/extensions/tips                                                                  \n",
       "│   ├── Extension at /Users/kraemer/Dropbox/Education/SUPERMARK/supermark/notebooks/../superm\n",
       "│   │   ark/extensions/report                                                                \n",
       "│   ├── Extension at /Users/kraemer/Dropbox/Education/SUPERMARK/supermark/notebooks/../superm\n",
       "│   │   ark/extensions/check                                                                 \n",
       "│   ├── Extension at /Users/kraemer/Dropbox/Education/SUPERMARK/supermark/notebooks/../superm\n",
       "│   │   ark/extensions/check                                                                 \n",
       "│   ├── Extension at /Users/kraemer/Dropbox/Education/SUPERMARK/supermark/notebooks/../superm\n",
       "│   │   ark/extensions/hints                                                                 \n",
       "│   ├── Extension at /Users/kraemer/Dropbox/Education/SUPERMARK/supermark/notebooks/../superm\n",
       "│   │   ark/extensions/hints                                                                 \n",
       "│   ├── Extension at /Users/kraemer/Dropbox/Education/SUPERMARK/supermark/notebooks/../superm\n",
       "│   │   ark/extensions/boxes                                                                 \n",
       "│   └── Extension at /Users/kraemer/Dropbox/Education/SUPERMARK/supermark/notebooks/../superm\n",
       "│       ark/extensions/boxes                                                                 \n",
       "└── tableclass                                                                               \n",
       "    ├── Extension at /Users/kraemer/Dropbox/Education/SUPERMARK/supermark/notebooks/../superm\n",
       "    │   ark/extensions/weekplan                                                              \n",
       "    └── Extension at /Users/kraemer/Dropbox/Education/SUPERMARK/supermark/notebooks/../superm\n",
       "        ark/extensions/rubrics                                                               \n",
       "</pre>\n"
      ],
      "text/plain": [
       "Supermark Extensions                                                                         \n",
       "├── yaml                                                                                     \n",
       "│   ├── Extension at /Users/kraemer/Dropbox/Education/SUPERMARK/supermark/notebooks/../superm\n",
       "│   │   ark/extensions/video                                                                 \n",
       "│   ├── Extension at /Users/kraemer/Dropbox/Education/SUPERMARK/supermark/notebooks/../superm\n",
       "│   │   ark/extensions/video                                                                 \n",
       "│   ├── Extension at /Users/kraemer/Dropbox/Education/SUPERMARK/supermark/notebooks/../superm\n",
       "│   │   ark/extensions/figure                                                                \n",
       "│   ├── Extension at /Users/kraemer/Dropbox/Education/SUPERMARK/supermark/notebooks/../superm\n",
       "│   │   ark/extensions/button                                                                \n",
       "│   ├── Extension at /Users/kraemer/Dropbox/Education/SUPERMARK/supermark/notebooks/../superm\n",
       "│   │   ark/extensions/table                                                                 \n",
       "│   ├── Extension at /Users/kraemer/Dropbox/Education/SUPERMARK/supermark/notebooks/../superm\n",
       "│   │   ark/extensions/lines                                                                 \n",
       "│   ├── Extension at /Users/kraemer/Dropbox/Education/SUPERMARK/supermark/notebooks/../superm\n",
       "│   │   ark/extensions/hints                                                                 \n",
       "│   └── Extension at /Users/kraemer/Dropbox/Education/SUPERMARK/supermark/notebooks/../superm\n",
       "│       ark/extensions/hints                                                                 \n",
       "├── paragraph                                                                                \n",
       "│   ├── Extension at /Users/kraemer/Dropbox/Education/SUPERMARK/supermark/notebooks/../superm\n",
       "│   │   ark/extensions/tree                                                                  \n",
       "│   ├── Extension at /Users/kraemer/Dropbox/Education/SUPERMARK/supermark/notebooks/../superm\n",
       "│   │   ark/extensions/goals                                                                 \n",
       "│   ├── Extension at /Users/kraemer/Dropbox/Education/SUPERMARK/supermark/notebooks/../superm\n",
       "│   │   ark/extensions/rat                                                                   \n",
       "│   ├── Extension at /Users/kraemer/Dropbox/Education/SUPERMARK/supermark/notebooks/../superm\n",
       "│   │   ark/extensions/warning                                                               \n",
       "│   ├── Extension at /Users/kraemer/Dropbox/Education/SUPERMARK/supermark/notebooks/../superm\n",
       "│   │   ark/extensions/warning                                                               \n",
       "│   ├── Extension at /Users/kraemer/Dropbox/Education/SUPERMARK/supermark/notebooks/../superm\n",
       "│   │   ark/extensions/steps                                                                 \n",
       "│   ├── Extension at /Users/kraemer/Dropbox/Education/SUPERMARK/supermark/notebooks/../superm\n",
       "│   │   ark/extensions/task                                                                  \n",
       "│   ├── Extension at /Users/kraemer/Dropbox/Education/SUPERMARK/supermark/notebooks/../superm\n",
       "│   │   ark/extensions/tips                                                                  \n",
       "│   ├── Extension at /Users/kraemer/Dropbox/Education/SUPERMARK/supermark/notebooks/../superm\n",
       "│   │   ark/extensions/tips                                                                  \n",
       "│   ├── Extension at /Users/kraemer/Dropbox/Education/SUPERMARK/supermark/notebooks/../superm\n",
       "│   │   ark/extensions/report                                                                \n",
       "│   ├── Extension at /Users/kraemer/Dropbox/Education/SUPERMARK/supermark/notebooks/../superm\n",
       "│   │   ark/extensions/check                                                                 \n",
       "│   ├── Extension at /Users/kraemer/Dropbox/Education/SUPERMARK/supermark/notebooks/../superm\n",
       "│   │   ark/extensions/check                                                                 \n",
       "│   ├── Extension at /Users/kraemer/Dropbox/Education/SUPERMARK/supermark/notebooks/../superm\n",
       "│   │   ark/extensions/hints                                                                 \n",
       "│   ├── Extension at /Users/kraemer/Dropbox/Education/SUPERMARK/supermark/notebooks/../superm\n",
       "│   │   ark/extensions/hints                                                                 \n",
       "│   ├── Extension at /Users/kraemer/Dropbox/Education/SUPERMARK/supermark/notebooks/../superm\n",
       "│   │   ark/extensions/boxes                                                                 \n",
       "│   └── Extension at /Users/kraemer/Dropbox/Education/SUPERMARK/supermark/notebooks/../superm\n",
       "│       ark/extensions/boxes                                                                 \n",
       "└── tableclass                                                                               \n",
       "    ├── Extension at /Users/kraemer/Dropbox/Education/SUPERMARK/supermark/notebooks/../superm\n",
       "    │   ark/extensions/weekplan                                                              \n",
       "    └── Extension at /Users/kraemer/Dropbox/Education/SUPERMARK/supermark/notebooks/../superm\n",
       "        ark/extensions/rubrics                                                               \n"
      ]
     },
     "metadata": {},
     "output_type": "display_data"
    }
   ],
   "source": [
    "core.info()"
   ]
  },
  {
   "cell_type": "code",
   "execution_count": 20,
   "metadata": {},
   "outputs": [
    {
     "name": "stdout",
     "output_type": "stream",
     "text": [
      "Extension at /Users/kraemer/Dropbox/Education/SUPERMARK/supermark/notebooks/../supermark/extensions/video\n",
      "```yaml\n",
      "---\n",
      "type: youtube\n",
      "video: wupToqz1e2g\n",
      "caption: The Pale Blue Dot.\n",
      "start: 80\n",
      "---\n",
      "\n",
      "```\n",
      "Extension at /Users/kraemer/Dropbox/Education/SUPERMARK/supermark/notebooks/../supermark/extensions/video\n",
      "```yaml\n",
      "---\n",
      "type: youtube\n",
      "video: wupToqz1e2g\n",
      "caption: The Pale Blue Dot.\n",
      "start: 80\n",
      "---\n",
      "\n",
      "```\n",
      "Extension at /Users/kraemer/Dropbox/Education/SUPERMARK/supermark/notebooks/../supermark/extensions/figure\n",
      "```yaml\n",
      "---\n",
      "type: figure\n",
      "source: figures/statemachines/state-machines-tcp.jpg\n",
      "caption: Caption for the figure in *md* syntax.\n",
      "---\n",
      "\n",
      "```\n",
      "Extension at /Users/kraemer/Dropbox/Education/SUPERMARK/supermark/notebooks/../supermark/extensions/table\n",
      "Extension at /Users/kraemer/Dropbox/Education/SUPERMARK/supermark/notebooks/../supermark/extensions/hints\n",
      "```yaml\n",
      "---\n",
      "type: hint\n",
      "title: Hint about Something\n",
      "---\n",
      "\n",
      "```\n",
      "Extension at /Users/kraemer/Dropbox/Education/SUPERMARK/supermark/notebooks/../supermark/extensions/hints\n",
      "```yaml\n",
      "---\n",
      "type: hint\n",
      "title: Hint about Something\n",
      "---\n",
      "\n",
      "```\n",
      "Extension at /Users/kraemer/Dropbox/Education/SUPERMARK/supermark/notebooks/../supermark/extensions/goals\n",
      "```markdown\n",
      ":goals: - Learning Goal 1\n",
      "- Learning Goal 2\n",
      "```\n",
      "Extension at /Users/kraemer/Dropbox/Education/SUPERMARK/supermark/notebooks/../supermark/extensions/warning\n",
      "```markdown\n",
      ":warning: Use warnings to prevent harm or damage. Draw attention.\n",
      "```\n",
      "Extension at /Users/kraemer/Dropbox/Education/SUPERMARK/supermark/notebooks/../supermark/extensions/warning\n",
      "```markdown\n",
      ":warning: Use warnings to prevent harm or damage. Draw attention.\n",
      "```\n",
      "Extension at /Users/kraemer/Dropbox/Education/SUPERMARK/supermark/notebooks/../supermark/extensions/steps\n",
      "```markdown\n",
      ":steps: 1. Lorem ipsum dolor sit amet, consectetur adipiscing elit. Nullam non imperdiet mauris. Sed rutrum massa at leo fringilla consequat. Duis eget leo vel augue placerat venenatis nec id lectus. Maecenas aliquam ac lectus sit amet dictum. Mauris odio tortor, tincidunt sed pulvinar in, varius in massa. Curabitur fermentum turpis felis, a egestas diam consectetur et. Orci varius natoque penatibus et magnis dis parturient montes, nascetur ridiculus mus. Nullam lacinia lobortis accumsan. Quisque bibendum molestie metus, eu pharetra ante cursus eget. Fusce lobortis velit et massa sollicitudin, a bibendum elit commodo. Sed at pretium enim. Nunc viverra feugiat eros, sodales molestie dui lobortis eget. Donec sollicitudin dui commodo, imperdiet nibh eget, faucibus ex.\n",
      "2. Fusce nisi odio, tincidunt sed dui sit amet, porta volutpat mauris. Nam quis leo at sem fermentum efficitur a non magna. Nullam rutrum sem sed massa efficitur posuere. Nullam leo diam, congue in imperdiet non, aliquet sed est. Quisque et nunc in elit hendrerit feugiat. Nulla euismod iaculis dolor et molestie. Sed ut lectus sagittis, ultrices nulla sagittis, sodales enim. Quisque in tortor nec dui accumsan consectetur. Quisque laoreet auctor congue. Etiam malesuada enim eget risus posuere, ut porta est faucibus. Cras rhoncus sem in aliquet suscipit. Etiam cursus pellentesque mauris, ut sagittis tellus consectetur nec.\n",
      "3. Mauris feugiat, nisi tempor tincidunt eleifend, ante nisi dictum lectus, nec ultricies magna eros ultrices nisl. Morbi laoreet nibh mi, a maximus augue tristique vitae. Aenean at nisl sit amet nisl eleifend feugiat eget quis lacus. Maecenas ac dignissim libero, vel tristique ante. Donec sollicitudin dapibus turpis vitae consequat. Integer dapibus felis a urna vehicula vehicula. Donec eleifend sed nulla non efficitur. Curabitur ut ligula aliquet, pharetra quam at, auctor augue. Aliquam vel commodo ante. Ut blandit lectus sapien, eget imperdiet diam placerat vel. Vestibulum laoreet velit eu ultrices tincidunt. Curabitur in tristique massa.\n",
      "4. Cras ultrices mauris risus, vel maximus quam volutpat quis. Nulla facilisi. Nullam suscipit euismod auctor. Etiam sollicitudin diam commodo, elementum nisl quis, commodo quam. Proin a nulla tempor, pretium enim et, euismod eros. Sed rhoncus sagittis lectus, sit amet semper tortor tempus eu. Aenean lorem nisl, luctus sit amet ultricies sed, sodales quis ligula. Mauris eleifend sem lacinia ligula cursus egestas. Phasellus ut ex tortor. Aliquam congue imperdiet nibh eu rhoncus. Ut sed sollicitudin turpis, non gravida nulla.\n",
      "5. Phasellus rutrum sollicitudin vestibulum. Proin pretium turpis non pellentesque rutrum. Fusce vitae congue metus, at dignissim enim. Sed quis varius metus. Curabitur mattis turpis non nisi imperdiet, nec mattis arcu varius. Maecenas et auctor nisi, ut volutpat diam. Nulla facilisi. Pellentesque semper iaculis lectus, et rutrum metus euismod et. Integer nisl eros, fermentum quis vulputate et, tristique in dolor. Nam rhoncus posuere sem, non volutpat lectus sagittis hendrerit. Quisque eget ornare urna. In feugiat eleifend accumsan. Donec in sapien consequat, dictum massa at, sollicitudin mauris.\n",
      "```\n",
      "```markdown\n",
      ":steps: 1. This is the first step\n",
      "2. This is the second step.\n",
      "3. This is the third step.\n",
      "```\n",
      "Extension at /Users/kraemer/Dropbox/Education/SUPERMARK/supermark/notebooks/../supermark/extensions/tips\n",
      "```markdown\n",
      ":tip: A tip is shown in a highlighted box.\n",
      "```\n",
      "Extension at /Users/kraemer/Dropbox/Education/SUPERMARK/supermark/notebooks/../supermark/extensions/tips\n",
      "```markdown\n",
      ":tip: A tip is shown in a highlighted box.\n",
      "```\n",
      "Extension at /Users/kraemer/Dropbox/Education/SUPERMARK/supermark/notebooks/../supermark/extensions/hints\n",
      "```markdown\n",
      ":hint: This is a hint that is only visible after clicking a button.\n",
      "```\n",
      "```markdown\n",
      ":hint: This is another hint that is only visible after clicking a button.\n",
      "```\n",
      "Extension at /Users/kraemer/Dropbox/Education/SUPERMARK/supermark/notebooks/../supermark/extensions/hints\n",
      "```markdown\n",
      ":hint: This is a hint that is only visible after clicking a button.\n",
      "```\n",
      "```markdown\n",
      ":hint: This is another hint that is only visible after clicking a button.\n",
      "```\n"
     ]
    }
   ],
   "source": [
    "for extension in core.get_all_extensions():\n",
    "    \n",
    "    path = extension.get_doc()\n",
    "    if path is not None:\n",
    "        chunks, _ = core.parse_file(path)\n",
    "        print(extension)\n",
    "        for chunk in chunks:\n",
    "            if chunk.get_extension() == extension:\n",
    "                print(chunk.get_escaped_source())"
   ]
  },
  {
   "cell_type": "code",
   "execution_count": 9,
   "metadata": {},
   "outputs": [
    {
     "name": "stdout",
     "output_type": "stream",
     "text": [
      "Help on Core in module supermark.core object:\n",
      "\n",
      "class Core(builtins.object)\n",
      " |  Core() -> None\n",
      " |  \n",
      " |  Methods defined here:\n",
      " |  \n",
      " |  __init__(self) -> None\n",
      " |      Initialize self.  See help(type(self)) for accurate signature.\n",
      " |  \n",
      " |  arrange_assides(self, chunks: Sequence[supermark.chunks.Chunk]) -> Sequence[supermark.chunks.Chunk]\n",
      " |  \n",
      " |  cast(self, rawchunks: Sequence[supermark.chunks.RawChunk], report: supermark.report.Report, used_extensions: Optional[Set[supermark.base.Extension]] = None) -> Sequence[supermark.chunks.Chunk]\n",
      " |  \n",
      " |  get_all_extensions(self) -> Sequence[supermark.base.Extension]\n",
      " |  \n",
      " |  get_css(self, used_extensions: Set[supermark.base.Extension]) -> str\n",
      " |  \n",
      " |  info(self)\n",
      " |  \n",
      " |  parse_file(self, source_file_path: pathlib.Path, abort_draft: bool, reformat: bool, used_extensions: Optional[Set[supermark.base.Extension]] = None) -> Tuple[Optional[Sequence[supermark.chunks.Chunk]], supermark.report.Report]\n",
      " |  \n",
      " |  parse_lines(self, lines: List[str], source_file_path: pathlib.Path, report: supermark.report.Report, used_extensions: Optional[Set[supermark.base.Extension]] = None)\n",
      " |  \n",
      " |  register(self, extension: supermark.base.Extension) -> None\n",
      " |  \n",
      " |  ----------------------------------------------------------------------\n",
      " |  Data descriptors defined here:\n",
      " |  \n",
      " |  __dict__\n",
      " |      dictionary for instance variables (if defined)\n",
      " |  \n",
      " |  __weakref__\n",
      " |      list of weak references to the object (if defined)\n",
      "\n"
     ]
    }
   ],
   "source": [
    "help(core)"
   ]
  },
  {
   "cell_type": "code",
   "execution_count": null,
   "metadata": {},
   "outputs": [],
   "source": [
    "from pathlib import Path\n",
    "from supermark import Report\n",
    "import IPython\n",
    "\n",
    "source = \"\"\"\n",
    "# Section\n",
    "\n",
    "\n",
    "Hello, this is a prargraph.\n",
    "\n",
    "\n",
    ":goals: A todo.\n",
    "\n",
    "\n",
    "* Goal 1\n",
    "\n",
    "\n",
    "* Goal 2\"\"\"\n",
    "\n",
    "used_extensions = set()\n",
    "\n",
    "chunks = core.parse_lines(source.split('\\n'), Path(\".\"), Report(Path(\".\")), used_extensions=used_extensions)\n",
    "print(len(chunks))\n",
    "\n",
    "css = core.get_css(used_extensions)\n",
    "css += \"\\np    {\\ncolor: red;}\"\n",
    "\n",
    "fontawesome = '<link rel=\"stylesheet\" href=\"https://use.fontawesome.com/releases/v5.6.1/css/all.css\" integrity=\"sha384-gfdkjb5BdAXd+lj+gudLWI+BXq4IuLW5IT+brZEZsLFm++aCMlF1V92rMkPaX4PP\" crossorigin=\"anonymous\">'\n",
    "\n",
    "html = f'<html><head><style type=\"text/css\">{css}</style>{fontawesome}</head><body>'\n",
    "\n",
    "print(html)\n",
    "\n",
    "\n",
    "for chunk in chunks:\n",
    "    \n",
    "    html = html + chunk.to_html(builder=None)\n",
    "html += \"</body></html>\"\n",
    "IPython.display.HTML(data=html)"
   ]
  },
  {
   "cell_type": "code",
   "execution_count": null,
   "metadata": {},
   "outputs": [],
   "source": []
  },
  {
   "cell_type": "code",
   "execution_count": null,
   "metadata": {},
   "outputs": [],
   "source": [
    "used_extensions"
   ]
  },
  {
   "cell_type": "code",
   "execution_count": null,
   "metadata": {},
   "outputs": [],
   "source": [
    "for line in source.split('\\n'):\n",
    "    print(line)"
   ]
  },
  {
   "cell_type": "code",
   "execution_count": null,
   "metadata": {},
   "outputs": [],
   "source": [
    "from pathlib import Path\n",
    "input_path = Path(\"..\")\n",
    "print(input_path)\n",
    "for file_path in input_path.glob(\"*.md\"):\n",
    "    print(file_name.stem)"
   ]
  },
  {
   "cell_type": "code",
   "execution_count": null,
   "metadata": {},
   "outputs": [],
   "source": [
    "core = supermark.Core()"
   ]
  },
  {
   "cell_type": "code",
   "execution_count": null,
   "metadata": {},
   "outputs": [],
   "source": [
    "core.info()"
   ]
  },
  {
   "cell_type": "code",
   "execution_count": null,
   "metadata": {},
   "outputs": [],
   "source": [
    "\n",
    "\n",
    "\n"
   ]
  },
  {
   "cell_type": "code",
   "execution_count": null,
   "metadata": {},
   "outputs": [],
   "source": [
    "import inspect\n",
    "import os\n",
    "import pkgutil\n",
    "from importlib import import_module\n",
    "\n",
    "\n",
    "def walkthrough(path: str, prefix: str):\n",
    "    #print(type(path))\n",
    "    print(path)\n",
    "    for _, name, ispkg in pkgutil.iter_modules([path], prefix):\n",
    "        #print(type(name))\n",
    "        if ispkg:\n",
    "            walkthrough(path + \".\" + name, prefix + name + \".\")\n",
    "        else:\n",
    "            print(name)\n",
    "            plugin_module = __import__(name, fromlist=['blah'])\n",
    "            clsmembers = inspect.getmembers(plugin_module, inspect.isclass)\n",
    "            for (_, c) in clsmembers:\n",
    "                # Only add classes that are a sub class of Plugin, but NOT Plugin itself\n",
    "                if issubclass(c, Plugin) & (c is not Plugin):\n",
    "                    print(f'    Found plugin class: {c.__module__}.{c.__name__}')\n",
    "                    self.plugins.append(c())\n",
    "                    \n",
    "extensions_package = import_module(\"supermark.extensions\")\n",
    "walkthrough(extensions_package.__path__[0], extensions_package.__name__ + '.')"
   ]
  },
  {
   "cell_type": "code",
   "execution_count": null,
   "metadata": {},
   "outputs": [],
   "source": [
    "from importlib import import_module\n",
    "m = import_module(\"supermark.extensions.button\", package=None)"
   ]
  },
  {
   "cell_type": "code",
   "execution_count": null,
   "metadata": {},
   "outputs": [],
   "source": [
    "m"
   ]
  },
  {
   "cell_type": "code",
   "execution_count": null,
   "metadata": {},
   "outputs": [],
   "source": [
    "from supermark import Extension\n",
    "clsmembers = inspect.getmembers(m, inspect.isclass)\n",
    "print(m.__name__)\n",
    "for c, x in clsmembers:\n",
    "    if issubclass(x, Extension) and x.__module__ == m.__name__:\n",
    "        print(\"ja\")\n",
    "        #print(type(c))\n",
    "        print(c)\n",
    "        print(x.__module__)\n",
    "        #help(x)"
   ]
  },
  {
   "cell_type": "code",
   "execution_count": null,
   "metadata": {},
   "outputs": [],
   "source": [
    "                for (_, c) in clsmembers:\n",
    "                    # Only add classes that are a sub class of Plugin, but NOT Plugin itself\n",
    "                    if issubclass(c, Plugin) & (c is not Plugin):\n",
    "                        print(f'    Found plugin class: {c.__module__}.{c.__name__}')\n",
    "                        self.plugins.append(c())"
   ]
  },
  {
   "cell_type": "code",
   "execution_count": null,
   "metadata": {},
   "outputs": [],
   "source": [
    "from pathlib import Path\n",
    "for d in Path(\".\").glob(\"*\"):\n",
    "    print(d)"
   ]
  },
  {
   "cell_type": "code",
   "execution_count": null,
   "metadata": {},
   "outputs": [],
   "source": [
    "import re\n",
    "ENV_PATTERN = re.compile(\"[a-zA-Z]*:\")\n",
    "def has_class_tag(s_line: str) -> bool:\n",
    "    print(help(ENV_PATTERN.match(s_line)))\n",
    "    return s_line.startswith(\":\") and ENV_PATTERN.match(s_line)\n",
    "\n",
    "#has_class_tag(\":abc:ddndn\")\n",
    "#print(help(ENV_PATTERN.search(\":abc:ddndn\")))\n",
    "print(help(ENV_PATTERN))"
   ]
  },
  {
   "cell_type": "code",
   "execution_count": null,
   "metadata": {},
   "outputs": [],
   "source": [
    "class A():\n",
    "    ...\n",
    "    \n",
    "a = A()\n",
    "a.__class__"
   ]
  },
  {
   "cell_type": "code",
   "execution_count": null,
   "metadata": {},
   "outputs": [],
   "source": [
    "type(a)"
   ]
  },
  {
   "cell_type": "code",
   "execution_count": null,
   "metadata": {},
   "outputs": [],
   "source": [
    "s = set()"
   ]
  },
  {
   "cell_type": "code",
   "execution_count": null,
   "metadata": {},
   "outputs": [],
   "source": [
    "s"
   ]
  },
  {
   "cell_type": "code",
   "execution_count": null,
   "metadata": {},
   "outputs": [],
   "source": [
    "s.add(\"a\")\n",
    "s"
   ]
  },
  {
   "cell_type": "code",
   "execution_count": 23,
   "metadata": {},
   "outputs": [
    {
     "data": {
      "text/plain": [
       "PosixPath('/Users/kraemer/Dropbox/Education/SUPERMARK/supermark/notebooks')"
      ]
     },
     "execution_count": 23,
     "metadata": {},
     "output_type": "execute_result"
    }
   ],
   "source": [
    "from pathlib import Path\n",
    "Path.cwd()"
   ]
  },
  {
   "cell_type": "code",
   "execution_count": 26,
   "metadata": {},
   "outputs": [
    {
     "data": {
      "text/plain": [
       "False"
      ]
     },
     "execution_count": 26,
     "metadata": {},
     "output_type": "execute_result"
    }
   ],
   "source": [
    "x = Path(\"/Users/kraemer/Dropbox/Education/SUPERMARK/supermark/notebooks/frank/text.txt\")\n",
    "x.is_relative_to(Path.cwd())"
   ]
  },
  {
   "cell_type": "code",
   "execution_count": null,
   "metadata": {},
   "outputs": [],
   "source": []
  }
 ],
 "metadata": {
  "interpreter": {
   "hash": "18a85c8f79229977bc2bca38dcea5532824069fcbc8c5a19ae1672e15e14976a"
  },
  "kernelspec": {
   "display_name": "supermark-dev",
   "language": "python",
   "name": "supermark-dev"
  },
  "language_info": {
   "codemirror_mode": {
    "name": "ipython",
    "version": 3
   },
   "file_extension": ".py",
   "mimetype": "text/x-python",
   "name": "python",
   "nbconvert_exporter": "python",
   "pygments_lexer": "ipython3",
   "version": "3.9.5"
  }
 },
 "nbformat": 4,
 "nbformat_minor": 4
}
